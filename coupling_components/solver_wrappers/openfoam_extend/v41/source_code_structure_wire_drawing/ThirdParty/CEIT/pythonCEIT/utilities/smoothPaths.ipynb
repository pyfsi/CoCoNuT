{
 "cells": [
  {
   "cell_type": "code",
   "execution_count": 3,
   "metadata": {},
   "outputs": [],
   "source": [
    "import numpy as np\n",
    "from matplotlib import pyplot as plt\n",
    "import scipy.linalg\n",
    "import os"
   ]
  },
  {
   "cell_type": "code",
   "execution_count": 5,
   "metadata": {},
   "outputs": [],
   "source": [
    "# give it a file location which is in the format of a foam\n",
    "# tensor interpolation series\n",
    "\n",
    "# this will create a new deformation gradient series\n",
    "# with no volumetric change (as this oscillates in Foam process lines)\n",
    "# the step in the process line is broken down using matrix square roots\n",
    "# until the deformation step magnitude is below a certain threshold\n",
    "\n",
    "\n",
    "def smoothPath(file_loc,write_loc=None,threshold=1e-2):\n",
    "    with open(file_loc,'r') as f:\n",
    "        lines = f.readlines()\n",
    "        \n",
    "        defGradSeries = np.zeros((len(lines)-2,9))\n",
    "        \n",
    "        for idl,l in enumerate(lines[1:-1]):\n",
    "            l = l.replace('(','').replace(')','')\n",
    "            defGradSeries[idl,:] = l.split()[1:]\n",
    "    \n",
    "    defGradSeries_org = np.copy(defGradSeries)\n",
    "    \n",
    "    J = np.asarray([np.linalg.det(line.reshape(3,3)) for line in defGradSeries])\n",
    "    F_dev = np.asarray([line*J[idx]**(-1/3.0) for idx,line in enumerate(defGradSeries)])\n",
    "    \n",
    "    \n",
    "    defGradSeries_smoothed = []\n",
    "    defGradSeries_smoothed.append(F_dev[0])\n",
    "    \n",
    "    last_one_ok = False\n",
    "    for ids,F in enumerate(F_dev[1:]):\n",
    "        Fold = F_dev[ids].reshape(3,3)\n",
    "        Fnew = F.reshape(3,3)\n",
    "        \n",
    "        f = np.dot(Fnew,np.linalg.inv(Fold))\n",
    "        #step_size = np.linalg.norm(Fold-Fnew)\n",
    "        #step_size = np.linalg.norm(np.dot(f,f.T)-np.eye(3))\n",
    "        step_size = np.max(np.abs(Fnew-Fold))\n",
    "        \n",
    "        if step_size <= threshold:\n",
    "            defGradSeries_smoothed.append(F)\n",
    "            continue\n",
    "        else:\n",
    "            \n",
    "            extra_steps = 1\n",
    "            while step_size > threshold:\n",
    "                f = scipy.linalg.sqrtm(f)\n",
    "                #step_size = np.linalg.norm(Fold - np.dot(f,Fold))\n",
    "                #step_size = np.linalg.norm(np.dot(f,f.T)-np.eye(3))\n",
    "                step_size = np.max(np.abs(Fold - np.dot(f,Fold)))\n",
    "                extra_steps = extra_steps*2\n",
    "                if extra_steps > 10000:\n",
    "                    raise(Exception)\n",
    "            \n",
    "            Fextra = np.copy(Fold)\n",
    "            for i in range(0,extra_steps):\n",
    "                Fextra = np.dot(f,Fextra)\n",
    "                defGradSeries_smoothed.append(np.linalg.det(Fextra)**(-1.0/3.0)*Fextra.reshape(9))\n",
    "            \n",
    "    defGradSeries_smoothed = np.real(np.asarray(defGradSeries_smoothed))\n",
    "    \n",
    "    if write_loc:\n",
    "        with open(write_loc,'w') as f:\n",
    "            f.write('(\\n')\n",
    "            for ids,l in enumerate(defGradSeries_smoothed):\n",
    "                f.write('('+str(ids)+'    (' + ' '.join([str(x) for x in l]) + '))\\n')\n",
    "            f.write(')\\n')\n",
    "    return defGradSeries_org, defGradSeries_smoothed"
   ]
  },
  {
   "cell_type": "code",
   "execution_count": 155,
   "metadata": {},
   "outputs": [],
   "source": [
    "org,smooth = smoothPath('./test_output/deformationPath_6.dat')"
   ]
  },
  {
   "cell_type": "code",
   "execution_count": 156,
   "metadata": {},
   "outputs": [
    {
     "data": {
      "text/plain": [
       "array([[ 9.99902558e-01,  4.41177277e-04,  4.15154248e-04, ...,\n",
       "        -1.72567876e-03,  5.46118650e-06,  1.00001265e+00],\n",
       "       [ 9.99939431e-01,  4.28040073e-04,  4.12669674e-04, ...,\n",
       "        -1.88951386e-03,  2.40824914e-05,  1.00000067e+00],\n",
       "       [ 9.99656715e-01,  4.28761395e-04,  3.95824558e-04, ...,\n",
       "        -1.74590381e-03, -1.87455653e-05,  1.00011758e+00],\n",
       "       ...,\n",
       "       [ 1.43146842e+00,  4.36154775e-02,  2.35075949e-02, ...,\n",
       "         4.92293484e-02,  3.26269758e-02,  9.80827267e-01],\n",
       "       [ 1.43116915e+00,  4.40902673e-02,  2.39534982e-02, ...,\n",
       "         4.99138514e-02,  3.34490019e-02,  9.80089165e-01],\n",
       "       [ 1.43086960e+00,  4.45657840e-02,  2.43992849e-02, ...,\n",
       "         5.05965055e-02,  3.42714391e-02,  9.79352420e-01]])"
      ]
     },
     "execution_count": 156,
     "metadata": {},
     "output_type": "execute_result"
    }
   ],
   "source": [
    "smooth"
   ]
  },
  {
   "cell_type": "code",
   "execution_count": 152,
   "metadata": {},
   "outputs": [
    {
     "name": "stderr",
     "output_type": "stream",
     "text": [
      "/home/mclancy/anaconda3/lib/python3.7/site-packages/numpy/core/numeric.py:538: ComplexWarning: Casting complex values to real discards the imaginary part\n",
      "  return array(a, dtype, copy=False, order=order)\n"
     ]
    },
    {
     "data": {
      "text/plain": [
       "[<matplotlib.lines.Line2D at 0x7f4006784e10>]"
      ]
     },
     "execution_count": 152,
     "metadata": {},
     "output_type": "execute_result"
    },
    {
     "data": {
      "image/png": "[encoded data removed]",
      "text/plain": [
       "<Figure size 432x288 with 1 Axes>"
      ]
     },
     "metadata": {
      "needs_background": "light"
     },
     "output_type": "display_data"
    }
   ],
   "source": [
    "plt.plot(smooth[:,2],'o')\n"
   ]
  },
  {
   "cell_type": "code",
   "execution_count": 144,
   "metadata": {},
   "outputs": [],
   "source": [
    "J = [np.linalg.det(F.reshape(3,3)) for F in smooth]"
   ]
  },
  {
   "cell_type": "code",
   "execution_count": 145,
   "metadata": {},
   "outputs": [
    {
     "data": {
      "text/plain": [
       "[<matplotlib.lines.Line2D at 0x7f400698ddd8>]"
      ]
     },
     "execution_count": 145,
     "metadata": {},
     "output_type": "execute_result"
    },
    {
     "data": {
      "image/png": "[encoded data removed]",
      "text/plain": [
       "<Figure size 432x288 with 1 Axes>"
      ]
     },
     "metadata": {
      "needs_background": "light"
     },
     "output_type": "display_data"
    }
   ],
   "source": [
    "plt.plot(J)"
   ]
  },
  {
   "cell_type": "code",
   "execution_count": 7,
   "metadata": {},
   "outputs": [
    {
     "name": "stdout",
     "output_type": "stream",
     "text": [
      "./drawing_appended_paths/deformationPath_6.dat\n",
      "./drawing_appended_paths/deformationPath_57.dat\n",
      "./drawing_appended_paths/deformationPath_61.dat\n",
      "./drawing_appended_paths/deformationPath_39.dat\n",
      "./drawing_appended_paths/deformationPath_71.dat\n",
      "./drawing_appended_paths/deformationPath_74.dat\n",
      "./drawing_appended_paths/deformationPath_27.dat\n",
      "./drawing_appended_paths/deformationPath_32.dat\n",
      "./drawing_appended_paths/deformationPath_34.dat\n",
      "./drawing_appended_paths/deformationPath_13.dat\n",
      "./drawing_appended_paths/deformationPath_43.dat\n",
      "./drawing_appended_paths/deformationPath_8.dat\n",
      "./drawing_appended_paths/deformationPath_15.dat\n",
      "./drawing_appended_paths/deformationPath_60.dat\n",
      "./drawing_appended_paths/deformationPath_56.dat\n",
      "./drawing_appended_paths/deformationPath_47.dat\n",
      "./drawing_appended_paths/deformationPath_40.dat\n",
      "./drawing_appended_paths/deformationPath_5.dat\n",
      "./drawing_appended_paths/deformationPath_65.dat\n",
      "./drawing_appended_paths/deformationPath_20.dat\n",
      "./drawing_appended_paths/deformationPath_70.dat\n",
      "./drawing_appended_paths/deformationPath_53.dat\n",
      "./drawing_appended_paths/deformationPath_1.dat\n",
      "./drawing_appended_paths/deformationPath_35.dat\n",
      "./drawing_appended_paths/deformationPath_28.dat\n",
      "./drawing_appended_paths/deformationPath_7.dat\n",
      "./drawing_appended_paths/deformationPath_69.dat\n",
      "./drawing_appended_paths/deformationPath_30.dat\n",
      "./drawing_appended_paths/deformationPath_41.dat\n",
      "./drawing_appended_paths/deformationPath_0.dat\n",
      "./drawing_appended_paths/deformationPath_72.dat\n",
      "./drawing_appended_paths/deformationPath_46.dat\n",
      "./drawing_appended_paths/deformationPath_73.dat\n",
      "./drawing_appended_paths/deformationPath_9.dat\n",
      "./drawing_appended_paths/deformationPath_31.dat\n",
      "./drawing_appended_paths/deformationPath_33.dat\n",
      "./drawing_appended_paths/deformationPath_22.dat\n",
      "./drawing_appended_paths/deformationPath_36.dat\n",
      "./drawing_appended_paths/deformationPath_4.dat\n",
      "./drawing_appended_paths/deformationPath_49.dat\n",
      "./drawing_appended_paths/deformationPath_18.dat\n",
      "./drawing_appended_paths/deformationPath_16.dat\n",
      "./drawing_appended_paths/deformationPath_62.dat\n",
      "./drawing_appended_paths/deformationPath_17.dat\n",
      "./drawing_appended_paths/deformationPath_63.dat\n",
      "./drawing_appended_paths/deformationPath_25.dat\n",
      "./drawing_appended_paths/deformationPath_37.dat\n",
      "./drawing_appended_paths/deformationPath_3.dat\n",
      "./drawing_appended_paths/deformationPath_52.dat\n",
      "./drawing_appended_paths/deformationPath_19.dat\n",
      "./drawing_appended_paths/deformationPath_24.dat\n",
      "./drawing_appended_paths/deformationPath_58.dat\n",
      "./drawing_appended_paths/deformationPath_51.dat\n",
      "./drawing_appended_paths/deformationPath_23.dat\n",
      "./drawing_appended_paths/deformationPath_21.dat\n",
      "./drawing_appended_paths/deformationPath_50.dat\n",
      "./drawing_appended_paths/deformationPath_59.dat\n",
      "./drawing_appended_paths/deformationPath_68.dat\n",
      "./drawing_appended_paths/deformationPath_64.dat\n",
      "./drawing_appended_paths/deformationPath_48.dat\n",
      "./drawing_appended_paths/deformationPath_42.dat\n",
      "./drawing_appended_paths/deformationPath_38.dat\n",
      "./drawing_appended_paths/deformationPath_54.dat\n",
      "./drawing_appended_paths/deformationPath_10.dat\n",
      "./drawing_appended_paths/deformationPath_14.dat\n",
      "./drawing_appended_paths/deformationPath_2.dat\n",
      "./drawing_appended_paths/deformationPath_44.dat\n",
      "./drawing_appended_paths/deformationPath_29.dat\n",
      "./drawing_appended_paths/deformationPath_67.dat\n",
      "./drawing_appended_paths/deformationPath_12.dat\n",
      "./drawing_appended_paths/deformationPath_11.dat\n",
      "./drawing_appended_paths/deformationPath_55.dat\n",
      "./drawing_appended_paths/deformationPath_45.dat\n",
      "./drawing_appended_paths/deformationPath_26.dat\n",
      "./drawing_appended_paths/deformationPath_66.dat\n"
     ]
    }
   ],
   "source": [
    "# lets smooth some files\n",
    "from glob import glob\n",
    "\n",
    "files = glob('./drawing_appended_paths/deformationPath*')\n",
    "output_loc = './drawing_smooth_paths/'\n",
    "\n",
    "try:\n",
    "    os.mkdir(output_loc)\n",
    "except:\n",
    "    pass\n",
    "\n",
    "ids = 0\n",
    "for f in files:\n",
    "    print(f)\n",
    "    smoothPath(f,write_loc=output_loc + str(ids)+'_deformation_path_smooth.dat')\n",
    "    ids+=1"
   ]
  },
  {
   "cell_type": "code",
   "execution_count": null,
   "metadata": {},
   "outputs": [],
   "source": []
  }
 ],
 "metadata": {
  "kernelspec": {
   "display_name": "Python 3",
   "language": "python",
   "name": "python3"
  },
  "language_info": {
   "codemirror_mode": {
    "name": "ipython",
    "version": 3
   },
   "file_extension": ".py",
   "mimetype": "text/x-python",
   "name": "python",
   "nbconvert_exporter": "python",
   "pygments_lexer": "ipython3",
   "version": "3.7.3"
  }
 },
 "nbformat": 4,
 "nbformat_minor": 2
}
